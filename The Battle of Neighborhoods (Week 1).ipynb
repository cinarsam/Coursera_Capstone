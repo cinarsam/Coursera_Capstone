{
 "cells": [
  {
   "cell_type": "markdown",
   "metadata": {},
   "source": [
    "# Introduction\n",
    "An old friend wants to open a restaurant in a city where I work as a data scientist, and asked my help to define possible areas where he could have most advantage to launce the business.\n",
    "\n",
    "That is why, I started a pre-analysis first of all, and question him for his expectations, specificatins and so on."
   ]
  },
  {
   "cell_type": "markdown",
   "metadata": {},
   "source": [
    "# Required Data\n",
    "After we defined expectations and business problem, we start to find ressources for following data:\n",
    "- Neighbourhood\n",
    "- Number of shoppingmalls\n",
    "- Distance to universities and schools\n",
    "\n",
    "As Data Source we will be using Wikipedia and Foursquare"
   ]
  },
  {
   "cell_type": "code",
   "execution_count": null,
   "metadata": {},
   "outputs": [],
   "source": []
  }
 ],
 "metadata": {
  "kernelspec": {
   "display_name": "Python 3",
   "language": "python",
   "name": "python3"
  },
  "language_info": {
   "codemirror_mode": {
    "name": "ipython",
    "version": 3
   },
   "file_extension": ".py",
   "mimetype": "text/x-python",
   "name": "python",
   "nbconvert_exporter": "python",
   "pygments_lexer": "ipython3",
   "version": "3.7.4"
  }
 },
 "nbformat": 4,
 "nbformat_minor": 2
}
